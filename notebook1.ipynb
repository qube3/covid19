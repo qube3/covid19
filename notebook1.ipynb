{
 "cells": [
  {
   "cell_type": "code",
   "execution_count": 4,
   "metadata": {
    "collapsed": true
   },
   "outputs": [],
   "source": [
    "import pandas as pd\n",
    "import numpy as np\n",
    "import matplotlib.pyplot as plt\n",
    "from ipywidgets import interact, interactive, fixed, interact_manual\n",
    "import ipywidgets as widgets\n",
    "from IPython.display import display"
   ]
  },
  {
   "cell_type": "code",
   "execution_count": 13,
   "metadata": {
    "collapsed": true
   },
   "outputs": [],
   "source": [
    "%matplotlib inline"
   ]
  },
  {
   "cell_type": "code",
   "execution_count": 5,
   "metadata": {},
   "outputs": [],
   "source": [
    "dfMorts = pd.read_html('https://github.com/CSSEGISandData/COVID-19/blob/master/csse_covid_19_data/csse_covid_19_time_series/time_series_19-covid-Deaths.csv')\n",
    "dfCases = pd.read_html('https://github.com/CSSEGISandData/COVID-19/blob/master/csse_covid_19_data/csse_covid_19_time_series/time_series_19-covid-Confirmed.csv')\n",
    "dfMort = dfMorts[0]\n",
    "dfCase = dfCases[0]\n",
    "dfList = [dfMort, dfCase]\n",
    "#print(dfMort.head(), dfCase.head())\n",
    "#print(dfMort.columns, dfCase.columns)"
   ]
  },
  {
   "cell_type": "code",
   "execution_count": 6,
   "metadata": {},
   "outputs": [],
   "source": [
    "#df = pd.read_csv('C:\\\\Users\\\\vroum\\\\Documents\\\\Dossier_Quentin\\\\BigData-Machine Learning\\\\COVID-19-master\\\\COVID-19-master\\\\csse_covid_19_data\\\\csse_covid_19_time_series\\\\time_series_19-covid-Deaths.csv', sep=',')\n",
    "dfListTreat = []\n",
    "for df in dfList:\n",
    "    df.drop(['Unnamed: 0', 'Province/State', 'Lat', 'Long'], axis=1, inplace = True)\n",
    "    df = df.groupby(['Country/Region']).sum()\n",
    "    df = df.T\n",
    "    df = df.reset_index()\n",
    "    df = df.rename(columns={'index': 'date'})\n",
    "    df['date'] = pd.to_datetime(df['date'])\n",
    "    df = df.set_index('date')\n",
    "    df = df.iloc[24:]\n",
    "    dfListTreat.append(df)\n",
    "    #print(df.head())\n",
    "    #for c in df.columns:\n",
    "        #print(c)\n",
    "\n",
    "dfMort = dfListTreat[0]\n",
    "dfCase = dfListTreat[1]"
   ]
  },
  {
   "cell_type": "code",
   "execution_count": 14,
   "metadata": {},
   "outputs": [
    {
     "data": {
      "image/png": "[encoded data removed]",
      "text/plain": [
       "<matplotlib.figure.Figure at 0x222db146320>"
      ]
     },
     "metadata": {},
     "output_type": "display_data"
    }
   ],
   "source": [
    "dfMort['United Kingdom'].plot()\n",
    "dfMort['France'].plot()\n",
    "dfMort['Spain'].plot()\n",
    "dfMort['Italy'].plot()\n",
    "plt.legend()\n",
    "plt.show()"
   ]
  },
  {
   "cell_type": "code",
   "execution_count": 17,
   "metadata": {},
   "outputs": [
    {
     "data": {
      "application/vnd.jupyter.widget-view+json": {
       "model_id": "4b63a0d2ae7241f58aa5bd4151bda86f"
      }
     },
     "metadata": {},
     "output_type": "display_data"
    },
    {
     "data": {
      "application/vnd.jupyter.widget-view+json": {
       "model_id": "9dd7ed98fd9e465496861b9ac2e16c8c"
      }
     },
     "metadata": {},
     "output_type": "display_data"
    }
   ],
   "source": [
    "countryList = list(df.columns)\n",
    "#print(countryList)\n",
    "\n",
    "countryDP_ref = widgets.Dropdown(\n",
    "    options=countryList,\n",
    "    value='Italy',\n",
    "    description='Reference Country:',\n",
    "    disabled=False,)\n",
    "countryDP_shift = widgets.Dropdown(\n",
    "    options=countryList,\n",
    "    value='France',\n",
    "    description='Country to be compared:',\n",
    "    disabled=False,)\n",
    "display(countryDP_ref)\n",
    "display(countryDP_shift)\n",
    "#print(countryDP_ref.value)\n",
    "#print(countryDP_shift.value)"
   ]
  },
  {
   "cell_type": "code",
   "execution_count": 18,
   "metadata": {},
   "outputs": [
    {
     "data": {
      "application/vnd.jupyter.widget-view+json": {
       "model_id": "29ce9327d75c4702aa1458d08715923c"
      }
     },
     "metadata": {},
     "output_type": "display_data"
    }
   ],
   "source": [
    "def f(x):\n",
    "    countryRef = countryDP_ref.value\n",
    "    countryShift = countryDP_shift.value\n",
    "    dfShift1 = dfMort[countryShift]\n",
    "    dfRef1 = dfMort[countryRef]\n",
    "    dfShift1 = dfShift1.reset_index()\n",
    "    dfShift1['date'] = dfShift1['date'] + pd.Timedelta(str(x)+' day')\n",
    "    dfShift1 = dfShift1.set_index('date')\n",
    "    dfShift2 = dfCase[countryShift]\n",
    "    dfRef2 = dfCase[countryRef]\n",
    "    dfShift2 = dfShift2.reset_index()\n",
    "    dfShift2['date'] = dfShift2['date'] + pd.Timedelta(str(x)+' day')\n",
    "    dfShift2 = dfShift2.set_index('date')\n",
    "    #print(dfF.head())\n",
    "    plt.figure(figsize=(8, 6))\n",
    "    plt.subplot(211)\n",
    "    plt.plot(dfShift1, label=countryShift)\n",
    "    plt.plot(dfRef1, label=countryRef)\n",
    "    #print(dfShift1.columns)\n",
    "    #dfShift1.plot()\n",
    "    #dfRef1.plot()\n",
    "    plt.yscale('log')\n",
    "    plt.ylabel('Deaths')\n",
    "    plt.legend()\n",
    "    plt.subplot(212)\n",
    "    plt.plot(dfShift2, label=countryShift)\n",
    "    plt.plot(dfRef2, label=countryRef)\n",
    "    plt.yscale('log')\n",
    "    plt.ylabel('Cases')\n",
    "    plt.legend()\n",
    "    plt.show()\n",
    "x = interact(f, x=(-15,5,1));"
   ]
  },
  {
   "cell_type": "code",
   "execution_count": 12,
   "metadata": {},
   "outputs": [
    {
     "name": "stdout",
     "output_type": "stream",
     "text": [
      "7375\n",
      "6650\n"
     ]
    }
   ],
   "source": [
    "print(df['Italy'].iloc[-9])\n",
    "print(df['France'].iloc[-1])"
   ]
  },
  {
   "cell_type": "code",
   "execution_count": null,
   "metadata": {},
   "outputs": [],
   "source": []
  }
 ],
 "metadata": {
  "kernelspec": {
   "display_name": "Python 3",
   "language": "python",
   "name": "python3"
  },
  "language_info": {
   "codemirror_mode": {
    "name": "ipython",
    "version": 3
   },
   "file_extension": ".py",
   "mimetype": "text/x-python",
   "name": "python",
   "nbconvert_exporter": "python",
   "pygments_lexer": "ipython3",
   "version": "3.6.1"
  }
 },
 "nbformat": 4,
 "nbformat_minor": 2
}
