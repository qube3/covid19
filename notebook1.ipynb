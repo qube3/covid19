{
 "cells": [
  {
   "cell_type": "code",
   "execution_count": 1,
   "metadata": {
    "collapsed": true
   },
   "outputs": [],
   "source": [
    "import pandas as pd\n",
    "import numpy as np\n",
    "import matplotlib.pyplot as plt\n",
    "from ipywidgets import interact, interactive, fixed, interact_manual\n",
    "import ipywidgets as widgets\n",
    "from IPython.display import display"
   ]
  },
  {
   "cell_type": "code",
   "execution_count": 2,
   "metadata": {
    "collapsed": true
   },
   "outputs": [],
   "source": [
    "dfMorts = pd.read_html('https://github.com/CSSEGISandData/COVID-19/blob/master/csse_covid_19_data/csse_covid_19_time_series/time_series_19-covid-Deaths.csv')\n",
    "dfCases = pd.read_html('https://github.com/CSSEGISandData/COVID-19/blob/master/csse_covid_19_data/csse_covid_19_time_series/time_series_19-covid-Confirmed.csv')\n",
    "dfMort = dfMorts[0]\n",
    "dfCase = dfCases[0]\n",
    "dfList = [dfMort, dfCase]\n",
    "#print(dfMort.head(), dfCase.head())\n",
    "#print(dfMort.columns, dfCase.columns)"
   ]
  },
  {
   "cell_type": "code",
   "execution_count": 3,
   "metadata": {
    "collapsed": true
   },
   "outputs": [],
   "source": [
    "#df = pd.read_csv('C:\\\\Users\\\\vroum\\\\Documents\\\\Dossier_Quentin\\\\BigData-Machine Learning\\\\COVID-19-master\\\\COVID-19-master\\\\csse_covid_19_data\\\\csse_covid_19_time_series\\\\time_series_19-covid-Deaths.csv', sep=',')\n",
    "dfListTreat = []\n",
    "for df in dfList:\n",
    "    df.drop(['Unnamed: 0', 'Province/State', 'Lat', 'Long'], axis=1, inplace = True)\n",
    "    df = df.groupby(['Country/Region']).sum()\n",
    "    df = df.T\n",
    "    df = df.reset_index()\n",
    "    df = df.rename(columns={'index': 'date'})\n",
    "    df['date'] = pd.to_datetime(df['date'])\n",
    "    df = df.set_index('date')\n",
    "    df = df.iloc[24:]\n",
    "    dfListTreat.append(df)\n",
    "    #print(df.head())\n",
    "    #for c in df.columns:\n",
    "        #print(c)\n",
    "\n",
    "dfMort = dfListTreat[0]\n",
    "dfCase = dfListTreat[1]"
   ]
  },
  {
   "cell_type": "code",
   "execution_count": 4,
   "metadata": {},
   "outputs": [
    {
     "data": {
      "image/png": "[encoded data removed]",
      "text/plain": [
       "<matplotlib.figure.Figure at 0x1ed4c07ff98>"
      ]
     },
     "metadata": {},
     "output_type": "display_data"
    }
   ],
   "source": [
    "dfMort['United Kingdom'].plot()\n",
    "dfMort['France'].plot()\n",
    "dfMort['Spain'].plot()\n",
    "#dfMort['Italy'].plot()\n",
    "plt.legend()\n",
    "plt.show()"
   ]
  },
  {
   "cell_type": "code",
   "execution_count": 5,
   "metadata": {},
   "outputs": [
    {
     "data": {
      "application/vnd.jupyter.widget-view+json": {
       "model_id": "46a42f8848fd44a995fedf1500616907"
      }
     },
     "metadata": {},
     "output_type": "display_data"
    }
   ],
   "source": [
    "countryList = list(df.columns)\n",
    "def f(x,y,z):\n",
    "    countryRef = z\n",
    "    countryShift = y\n",
    "    dfShift1 = dfMort[countryShift]\n",
    "    dfRef1 = dfMort[countryRef]\n",
    "    dfShift1 = dfShift1.reset_index()\n",
    "    dfShift1['date'] = dfShift1['date'] + pd.Timedelta(str(x)+' day')\n",
    "    dfShift1 = dfShift1.set_index('date')\n",
    "    dfShift2 = dfCase[countryShift]\n",
    "    dfRef2 = dfCase[countryRef]\n",
    "    dfShift2 = dfShift2.reset_index()\n",
    "    dfShift2['date'] = dfShift2['date'] + pd.Timedelta(str(x)+' day')\n",
    "    dfShift2 = dfShift2.set_index('date')\n",
    "    #print(dfF.head())\n",
    "    plt.figure(figsize=(15, 6))\n",
    "    plt.subplot(121)\n",
    "    plt.plot(dfShift1, label=countryShift)\n",
    "    plt.plot(dfRef1, label=countryRef)\n",
    "    #print(dfShift1.columns)\n",
    "    #dfShift1.plot()\n",
    "    #dfRef1.plot()\n",
    "    plt.yscale('log')\n",
    "    plt.ylabel('Deaths')\n",
    "    plt.grid()\n",
    "    plt.legend()\n",
    "    plt.subplot(122)\n",
    "    plt.plot(dfShift2, label=countryShift)\n",
    "    plt.plot(dfRef2, label=countryRef)\n",
    "    plt.yscale('log')\n",
    "    plt.ylabel('Cases')\n",
    "    plt.legend()\n",
    "    plt.grid()\n",
    "    plt.show()\n",
    "x = interact(f, x=widgets.IntSlider(min=-15, max=10, step=1, value=-9), \\\n",
    "             y=widgets.Dropdown(options=countryList, value='France', description='Country to be shifted:'), \\\n",
    "             z=widgets.Dropdown(options=countryList, value='Italy', description='Reference country:'));"
   ]
  },
  {
   "cell_type": "code",
   "execution_count": 7,
   "metadata": {},
   "outputs": [
    {
     "name": "stdout",
     "output_type": "stream",
     "text": [
      "7375\n",
      "7699\n"
     ]
    }
   ],
   "source": [
    "print(df['Italy'].iloc[-10])\n",
    "print(df['France'].iloc[-1])"
   ]
  },
  {
   "cell_type": "code",
   "execution_count": null,
   "metadata": {
    "collapsed": true
   },
   "outputs": [],
   "source": []
  }
 ],
 "metadata": {
  "kernelspec": {
   "display_name": "Python 3",
   "language": "python",
   "name": "python3"
  },
  "language_info": {
   "codemirror_mode": {
    "name": "ipython",
    "version": 3
   },
   "file_extension": ".py",
   "mimetype": "text/x-python",
   "name": "python",
   "nbconvert_exporter": "python",
   "pygments_lexer": "ipython3",
   "version": "3.6.1"
  },
  "widgets": {
   "application/vnd.jupyter.widget-state+json": {
    "state": {
     "2cbe470a49dd4c309da1b719cc138903": {
      "model_module": "jupyter-js-widgets",
      "model_module_version": "~2.1.4",
      "model_name": "LayoutModel",
      "state": {
       "_model_module_version": "~2.1.4",
       "_view_module_version": "~2.1.4"
      }
     },
     "3fc3a6487e9549f3bb1c1031fb18920d": {
      "model_module": "jupyter-js-widgets",
      "model_module_version": "~2.1.4",
      "model_name": "SliderStyleModel",
      "state": {
       "_model_module_version": "~2.1.4",
       "_view_module_version": "~2.1.4"
      }
     },
     "46a42f8848fd44a995fedf1500616907": {
      "model_module": "jupyter-js-widgets",
      "model_module_version": "~2.1.4",
      "model_name": "VBoxModel",
      "state": {
       "_dom_classes": [
        "widget-interact"
       ],
       "_model_module_version": "~2.1.4",
       "_view_module_version": "~2.1.4",
       "children": [
        "IPY_MODEL_db3d945ff20d42ddb3c91fee2a20f348",
        "IPY_MODEL_4b801c6d29e94c2da748ec70b8e9dc71",
        "IPY_MODEL_50e539c35cf345bda96931136648bdf6",
        "IPY_MODEL_6f0b6cd6cb5d4e5e9f9f97220f7081cf"
       ],
       "layout": "IPY_MODEL_7b05e0f4736c4a0ba3cc7c249b83984e"
      }
     },
     "4b801c6d29e94c2da748ec70b8e9dc71": {
      "model_module": "jupyter-js-widgets",
      "model_module_version": "~2.1.4",
      "model_name": "DropdownModel",
      "state": {
       "_model_module_version": "~2.1.4",
       "_options_labels": [
        "Afghanistan",
        "Albania",
        "Algeria",
        "Andorra",
        "Antigua and Barbuda",
        "Argentina",
        "Armenia",
        "Aruba",
        "Australia",
        "Austria",
        "Azerbaijan",
        "Bahrain",
        "Bangladesh",
        "Barbados",
        "Belarus",
        "Belgium",
        "Benin",
        "Bhutan",
        "Bolivia",
        "Bosnia and Herzegovina",
        "Brazil",
        "Brunei",
        "Bulgaria",
        "Burkina Faso",
        "Cambodia",
        "Cameroon",
        "Canada",
        "Central African Republic",
        "Chile",
        "China",
        "Colombia",
        "Congo (Brazzaville)",
        "Congo (Kinshasa)",
        "Costa Rica",
        "Cote d'Ivoire",
        "Croatia",
        "Cruise Ship",
        "Cuba",
        "Cyprus",
        "Czechia",
        "Denmark",
        "Dominican Republic",
        "Ecuador",
        "Egypt",
        "Equatorial Guinea",
        "Estonia",
        "Eswatini",
        "Ethiopia",
        "Finland",
        "France",
        "Gabon",
        "Georgia",
        "Germany",
        "Ghana",
        "Greece",
        "Greenland",
        "Guatemala",
        "Guernsey",
        "Guinea",
        "Guyana",
        "Holy See",
        "Honduras",
        "Hungary",
        "Iceland",
        "India",
        "Indonesia",
        "Iran",
        "Iraq",
        "Ireland",
        "Israel",
        "Italy",
        "Jamaica",
        "Japan",
        "Jersey",
        "Jordan",
        "Kazakhstan",
        "Kenya",
        "Korea, South",
        "Kosovo",
        "Kuwait",
        "Latvia",
        "Lebanon",
        "Liberia",
        "Liechtenstein",
        "Lithuania",
        "Luxembourg",
        "Malaysia",
        "Maldives",
        "Malta",
        "Martinique",
        "Mauritania",
        "Mexico",
        "Moldova",
        "Monaco",
        "Mongolia",
        "Montenegro",
        "Morocco",
        "Namibia",
        "Nepal",
        "Netherlands",
        "New Zealand",
        "Nigeria",
        "North Macedonia",
        "Norway",
        "Oman",
        "Pakistan",
        "Panama",
        "Paraguay",
        "Peru",
        "Philippines",
        "Poland",
        "Portugal",
        "Qatar",
        "Republic of the Congo",
        "Romania",
        "Russia",
        "Rwanda",
        "Saint Lucia",
        "Saint Vincent and the Grenadines",
        "San Marino",
        "Saudi Arabia",
        "Senegal",
        "Serbia",
        "Seychelles",
        "Singapore",
        "Slovakia",
        "Slovenia",
        "Somalia",
        "South Africa",
        "Spain",
        "Sri Lanka",
        "Sudan",
        "Suriname",
        "Sweden",
        "Switzerland",
        "Taiwan*",
        "Tanzania",
        "Thailand",
        "The Bahamas",
        "The Gambia",
        "Togo",
        "Trinidad and Tobago",
        "Tunisia",
        "Turkey",
        "US",
        "Ukraine",
        "United Arab Emirates",
        "United Kingdom",
        "Uruguay",
        "Uzbekistan",
        "Venezuela",
        "Vietnam"
       ],
       "_view_module_version": "~2.1.4",
       "description": "Country to be shifted:",
       "layout": "IPY_MODEL_65165c078af54130844db60a2023dc75",
       "value": "France"
      }
     },
     "50e539c35cf345bda96931136648bdf6": {
      "model_module": "jupyter-js-widgets",
      "model_module_version": "~2.1.4",
      "model_name": "DropdownModel",
      "state": {
       "_model_module_version": "~2.1.4",
       "_options_labels": [
        "Afghanistan",
        "Albania",
        "Algeria",
        "Andorra",
        "Antigua and Barbuda",
        "Argentina",
        "Armenia",
        "Aruba",
        "Australia",
        "Austria",
        "Azerbaijan",
        "Bahrain",
        "Bangladesh",
        "Barbados",
        "Belarus",
        "Belgium",
        "Benin",
        "Bhutan",
        "Bolivia",
        "Bosnia and Herzegovina",
        "Brazil",
        "Brunei",
        "Bulgaria",
        "Burkina Faso",
        "Cambodia",
        "Cameroon",
        "Canada",
        "Central African Republic",
        "Chile",
        "China",
        "Colombia",
        "Congo (Brazzaville)",
        "Congo (Kinshasa)",
        "Costa Rica",
        "Cote d'Ivoire",
        "Croatia",
        "Cruise Ship",
        "Cuba",
        "Cyprus",
        "Czechia",
        "Denmark",
        "Dominican Republic",
        "Ecuador",
        "Egypt",
        "Equatorial Guinea",
        "Estonia",
        "Eswatini",
        "Ethiopia",
        "Finland",
        "France",
        "Gabon",
        "Georgia",
        "Germany",
        "Ghana",
        "Greece",
        "Greenland",
        "Guatemala",
        "Guernsey",
        "Guinea",
        "Guyana",
        "Holy See",
        "Honduras",
        "Hungary",
        "Iceland",
        "India",
        "Indonesia",
        "Iran",
        "Iraq",
        "Ireland",
        "Israel",
        "Italy",
        "Jamaica",
        "Japan",
        "Jersey",
        "Jordan",
        "Kazakhstan",
        "Kenya",
        "Korea, South",
        "Kosovo",
        "Kuwait",
        "Latvia",
        "Lebanon",
        "Liberia",
        "Liechtenstein",
        "Lithuania",
        "Luxembourg",
        "Malaysia",
        "Maldives",
        "Malta",
        "Martinique",
        "Mauritania",
        "Mexico",
        "Moldova",
        "Monaco",
        "Mongolia",
        "Montenegro",
        "Morocco",
        "Namibia",
        "Nepal",
        "Netherlands",
        "New Zealand",
        "Nigeria",
        "North Macedonia",
        "Norway",
        "Oman",
        "Pakistan",
        "Panama",
        "Paraguay",
        "Peru",
        "Philippines",
        "Poland",
        "Portugal",
        "Qatar",
        "Republic of the Congo",
        "Romania",
        "Russia",
        "Rwanda",
        "Saint Lucia",
        "Saint Vincent and the Grenadines",
        "San Marino",
        "Saudi Arabia",
        "Senegal",
        "Serbia",
        "Seychelles",
        "Singapore",
        "Slovakia",
        "Slovenia",
        "Somalia",
        "South Africa",
        "Spain",
        "Sri Lanka",
        "Sudan",
        "Suriname",
        "Sweden",
        "Switzerland",
        "Taiwan*",
        "Tanzania",
        "Thailand",
        "The Bahamas",
        "The Gambia",
        "Togo",
        "Trinidad and Tobago",
        "Tunisia",
        "Turkey",
        "US",
        "Ukraine",
        "United Arab Emirates",
        "United Kingdom",
        "Uruguay",
        "Uzbekistan",
        "Venezuela",
        "Vietnam"
       ],
       "_view_module_version": "~2.1.4",
       "description": "Reference country:",
       "layout": "IPY_MODEL_c04934714e8e44489246bf7d51e173a6",
       "value": "Italy"
      }
     },
     "65165c078af54130844db60a2023dc75": {
      "model_module": "jupyter-js-widgets",
      "model_module_version": "~2.1.4",
      "model_name": "LayoutModel",
      "state": {
       "_model_module_version": "~2.1.4",
       "_view_module_version": "~2.1.4"
      }
     },
     "6f0b6cd6cb5d4e5e9f9f97220f7081cf": {
      "model_module": "jupyter-js-widgets",
      "model_module_version": "~2.1.4",
      "model_name": "OutputModel",
      "state": {
       "_dom_classes": [],
       "_model_module": "jupyter-js-widgets",
       "_model_module_version": "~2.1.4",
       "_view_module": "jupyter-js-widgets",
       "_view_module_version": "~2.1.4",
       "layout": "IPY_MODEL_d00f659971194094978388512dc7c190",
       "msg_throttle": 1
      }
     },
     "7b05e0f4736c4a0ba3cc7c249b83984e": {
      "model_module": "jupyter-js-widgets",
      "model_module_version": "~2.1.4",
      "model_name": "LayoutModel",
      "state": {
       "_model_module_version": "~2.1.4",
       "_view_module_version": "~2.1.4"
      }
     },
     "c04934714e8e44489246bf7d51e173a6": {
      "model_module": "jupyter-js-widgets",
      "model_module_version": "~2.1.4",
      "model_name": "LayoutModel",
      "state": {
       "_model_module_version": "~2.1.4",
       "_view_module_version": "~2.1.4"
      }
     },
     "d00f659971194094978388512dc7c190": {
      "model_module": "jupyter-js-widgets",
      "model_module_version": "~2.1.4",
      "model_name": "LayoutModel",
      "state": {
       "_model_module_version": "~2.1.4",
       "_view_module_version": "~2.1.4"
      }
     },
     "db3d945ff20d42ddb3c91fee2a20f348": {
      "model_module": "jupyter-js-widgets",
      "model_module_version": "~2.1.4",
      "model_name": "IntSliderModel",
      "state": {
       "_model_module_version": "~2.1.4",
       "_view_module_version": "~2.1.4",
       "description": "x",
       "layout": "IPY_MODEL_2cbe470a49dd4c309da1b719cc138903",
       "max": 10,
       "min": -15,
       "style": "IPY_MODEL_3fc3a6487e9549f3bb1c1031fb18920d",
       "value": -9
      }
     }
    },
    "version_major": 1,
    "version_minor": 0
   }
  }
 },
 "nbformat": 4,
 "nbformat_minor": 2
}
